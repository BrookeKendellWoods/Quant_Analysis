{
 "cells": [
  {
   "cell_type": "code",
   "execution_count": 96,
   "id": "6ba2bda2",
   "metadata": {},
   "outputs": [],
   "source": [
    "import pandas as pd\n",
    "import numpy as np\n",
    "import pandas_datareader as pdr\n",
    "import matplotlib.pyplot as plt\n",
    "import seaborn as sns"
   ]
  },
  {
   "cell_type": "code",
   "execution_count": 97,
   "id": "bbc62862",
   "metadata": {},
   "outputs": [],
   "source": [
    "import yfinance as yf\n",
    "import yfinance as yfin\n",
    "yfin.pdr_override()"
   ]
  },
  {
   "cell_type": "markdown",
   "id": "c0cfbe1b",
   "metadata": {},
   "source": [
    "# download stock price data from yahoo finance"
   ]
  },
  {
   "cell_type": "code",
   "execution_count": 98,
   "id": "daeaa6d9",
   "metadata": {},
   "outputs": [],
   "source": [
    "amazon = pdr.DataReader(name='AMZN', data_source='yahoo')"
   ]
  },
  {
   "cell_type": "code",
   "execution_count": 99,
   "id": "7c8c6522",
   "metadata": {},
   "outputs": [
    {
     "data": {
      "text/html": [
       "<div>\n",
       "<style scoped>\n",
       "    .dataframe tbody tr th:only-of-type {\n",
       "        vertical-align: middle;\n",
       "    }\n",
       "\n",
       "    .dataframe tbody tr th {\n",
       "        vertical-align: top;\n",
       "    }\n",
       "\n",
       "    .dataframe thead th {\n",
       "        text-align: right;\n",
       "    }\n",
       "</style>\n",
       "<table border=\"1\" class=\"dataframe\">\n",
       "  <thead>\n",
       "    <tr style=\"text-align: right;\">\n",
       "      <th></th>\n",
       "      <th>High</th>\n",
       "      <th>Low</th>\n",
       "      <th>Open</th>\n",
       "      <th>Close</th>\n",
       "      <th>Volume</th>\n",
       "      <th>Adj Close</th>\n",
       "    </tr>\n",
       "    <tr>\n",
       "      <th>Date</th>\n",
       "      <th></th>\n",
       "      <th></th>\n",
       "      <th></th>\n",
       "      <th></th>\n",
       "      <th></th>\n",
       "      <th></th>\n",
       "    </tr>\n",
       "  </thead>\n",
       "  <tbody>\n",
       "    <tr>\n",
       "      <th>2016-08-22</th>\n",
       "      <td>759.849976</td>\n",
       "      <td>752.099976</td>\n",
       "      <td>757.500000</td>\n",
       "      <td>759.479980</td>\n",
       "      <td>1679300</td>\n",
       "      <td>759.479980</td>\n",
       "    </tr>\n",
       "    <tr>\n",
       "      <th>2016-08-23</th>\n",
       "      <td>764.700012</td>\n",
       "      <td>761.000000</td>\n",
       "      <td>763.309998</td>\n",
       "      <td>762.450012</td>\n",
       "      <td>1524100</td>\n",
       "      <td>762.450012</td>\n",
       "    </tr>\n",
       "    <tr>\n",
       "      <th>2016-08-24</th>\n",
       "      <td>763.409973</td>\n",
       "      <td>755.359985</td>\n",
       "      <td>763.000000</td>\n",
       "      <td>757.250000</td>\n",
       "      <td>1744100</td>\n",
       "      <td>757.250000</td>\n",
       "    </tr>\n",
       "  </tbody>\n",
       "</table>\n",
       "</div>"
      ],
      "text/plain": [
       "                  High         Low        Open       Close   Volume  \\\n",
       "Date                                                                  \n",
       "2016-08-22  759.849976  752.099976  757.500000  759.479980  1679300   \n",
       "2016-08-23  764.700012  761.000000  763.309998  762.450012  1524100   \n",
       "2016-08-24  763.409973  755.359985  763.000000  757.250000  1744100   \n",
       "\n",
       "             Adj Close  \n",
       "Date                    \n",
       "2016-08-22  759.479980  \n",
       "2016-08-23  762.450012  \n",
       "2016-08-24  757.250000  "
      ]
     },
     "execution_count": 99,
     "metadata": {},
     "output_type": "execute_result"
    }
   ],
   "source": [
    "amazon.head(3)"
   ]
  },
  {
   "cell_type": "markdown",
   "id": "8dd6ae9e",
   "metadata": {},
   "source": [
    "# store instantaneous rate of return in a seperate series"
   ]
  },
  {
   "cell_type": "code",
   "execution_count": 100,
   "id": "d8e64da2",
   "metadata": {},
   "outputs": [
    {
     "data": {
      "text/plain": [
       "Date\n",
       "2016-08-22     NaN\n",
       "2016-08-23    0.39\n",
       "2016-08-24   -0.68\n",
       "2016-08-25    0.26\n",
       "2016-08-26    1.28\n",
       "Name: Adj Close, dtype: float64"
      ]
     },
     "execution_count": 100,
     "metadata": {},
     "output_type": "execute_result"
    }
   ],
   "source": [
    "amazon_close = amazon['Adj Close']\n",
    "amazon_return = round(np.log(amazon_close).diff()* 100,2)\n",
    "amazon_return.head(5)"
   ]
  },
  {
   "cell_type": "markdown",
   "id": "cdce00f6",
   "metadata": {},
   "source": [
    "# plot the series"
   ]
  },
  {
   "cell_type": "code",
   "execution_count": 101,
   "id": "7d4a4e33",
   "metadata": {},
   "outputs": [
    {
     "data": {
      "text/plain": [
       "<AxesSubplot:xlabel='Date'>"
      ]
     },
     "execution_count": 101,
     "metadata": {},
     "output_type": "execute_result"
    },
    {
     "data": {
      "image/png": "[encoded data removed]",
      "text/plain": [
       "<Figure size 432x288 with 1 Axes>"
      ]
     },
     "metadata": {
      "needs_background": "light"
     },
     "output_type": "display_data"
    }
   ],
   "source": [
    "amazon_return[-253:].plot()#daily price change jumps around alot (lots of unpredictible variation in way price moves)"
   ]
  },
  {
   "cell_type": "markdown",
   "id": "be8b3801",
   "metadata": {},
   "source": [
    "# pandas describe function gives descriptive statistics, default assumes you are dealing with a sample pandas also deals with missing values by omitting them"
   ]
  },
  {
   "cell_type": "code",
   "execution_count": 102,
   "id": "14705ffb",
   "metadata": {},
   "outputs": [
    {
     "data": {
      "text/plain": [
       "count    1257.000000\n",
       "mean        0.114129\n",
       "std         1.848762\n",
       "min        -8.250000\n",
       "25%        -0.720000\n",
       "50%         0.140000\n",
       "75%         1.040000\n",
       "max        12.410000\n",
       "Name: Adj Close, dtype: float64"
      ]
     },
     "execution_count": 102,
     "metadata": {},
     "output_type": "execute_result"
    }
   ],
   "source": [
    "amazon_return.describe()"
   ]
  },
  {
   "cell_type": "markdown",
   "id": "983be3df",
   "metadata": {},
   "source": [
    "# An Alternate more slightly different table of statistics than scipy stats"
   ]
  },
  {
   "cell_type": "code",
   "execution_count": 103,
   "id": "5256cf82",
   "metadata": {},
   "outputs": [],
   "source": [
    "from scipy import stats"
   ]
  },
  {
   "cell_type": "code",
   "execution_count": 104,
   "id": "c7984e27",
   "metadata": {},
   "outputs": [
    {
     "data": {
      "text/plain": [
       "DescribeResult(nobs=1257, minmax=(-8.25, 12.41), mean=0.1141288782816229, variance=3.4179226680905397, skewness=0.05378416119611103, kurtosis=4.392499419594474)"
      ]
     },
     "execution_count": 104,
     "metadata": {},
     "output_type": "execute_result"
    }
   ],
   "source": [
    "amazon_return.dropna(inplace=True)\n",
    "stats.describe(amazon_return)\n",
    "\n"
   ]
  },
  {
   "cell_type": "markdown",
   "id": "4820376f",
   "metadata": {},
   "source": [
    "# for comparison generate random numbers that follow normal distribution"
   ]
  },
  {
   "cell_type": "code",
   "execution_count": 105,
   "id": "4f299895",
   "metadata": {},
   "outputs": [],
   "source": [
    "from scipy.stats import norm"
   ]
  },
  {
   "cell_type": "code",
   "execution_count": 111,
   "id": "2cb459db",
   "metadata": {},
   "outputs": [
    {
     "data": {
      "text/plain": [
       "DescribeResult(nobs=1257, minmax=(-8.25, 12.41), mean=0.1141288782816229, variance=3.4179226680905397, skewness=0.05378416119611103, kurtosis=4.392499419594474)"
      ]
     },
     "execution_count": 111,
     "metadata": {},
     "output_type": "execute_result"
    }
   ],
   "source": [
    "stats.describe(amazon_return)"
   ]
  },
  {
   "cell_type": "code",
   "execution_count": 113,
   "id": "88b2a7da",
   "metadata": {},
   "outputs": [],
   "source": [
    "n, minmax, mean, variance, skewness, kurtosis = stats.describe(amazon_return)\n",
    "mini, maxi = minmax\n"
   ]
  },
  {
   "cell_type": "code",
   "execution_count": 114,
   "id": "9e86ac97",
   "metadata": {},
   "outputs": [],
   "source": [
    "std = variance ** 5"
   ]
  },
  {
   "cell_type": "code",
   "execution_count": 115,
   "id": "4c7d3849",
   "metadata": {},
   "outputs": [
    {
     "data": {
      "text/plain": [
       "(array([  4.,   8.,  17.,  40., 122., 380., 464., 153.,  39.,  17.,   9.,\n",
       "          2.,   1.,   0.,   1.]),\n",
       " array([-8.25      , -6.87266667, -5.49533333, -4.118     , -2.74066667,\n",
       "        -1.36333333,  0.014     ,  1.39133333,  2.76866667,  4.146     ,\n",
       "         5.52333333,  6.90066667,  8.278     ,  9.65533333, 11.03266667,\n",
       "        12.41      ]),\n",
       " <BarContainer object of 15 artists>)"
      ]
     },
     "execution_count": 115,
     "metadata": {},
     "output_type": "execute_result"
    },
    {
     "data": {
      "image/png": "[encoded data removed]",
      "text/plain": [
       "<Figure size 432x288 with 1 Axes>"
      ]
     },
     "metadata": {
      "needs_background": "light"
     },
     "output_type": "display_data"
    }
   ],
   "source": [
    "plt.hist(amazon_return, bins = 15)"
   ]
  },
  {
   "cell_type": "code",
   "execution_count": 118,
   "id": "c68c80ba",
   "metadata": {},
   "outputs": [
    {
     "data": {
      "text/plain": [
       "(array([ 14.,  47., 123., 223., 288., 291., 175.,  68.,  24.,   4.]),\n",
       " array([-1304.22651795, -1018.88281852,  -733.53911909,  -448.19541967,\n",
       "         -162.85172024,   122.49197918,   407.83567861,   693.17937804,\n",
       "          978.52307746,  1263.86677689,  1549.21047632]),\n",
       " <BarContainer object of 10 artists>)"
      ]
     },
     "execution_count": 118,
     "metadata": {},
     "output_type": "execute_result"
    },
    {
     "data": {
      "image/png": "[encoded data removed]",
      "text/plain": [
       "<Figure size 432x288 with 1 Axes>"
      ]
     },
     "metadata": {
      "needs_background": "light"
     },
     "output_type": "display_data"
    }
   ],
   "source": [
    "from scipy.stats import norm\n",
    "x = norm.rvs(mean, std, n)\n",
    "\n",
    "plt.hist(x)"
   ]
  },
  {
   "cell_type": "code",
   "execution_count": 129,
   "id": "d009d43a",
   "metadata": {},
   "outputs": [
    {
     "name": "stdout",
     "output_type": "stream",
     "text": [
      "      Test Statistic        p_value\n",
      "     ------------------------------\n",
      "x:            -0.32          0.7514\n",
      "AMZN:         11.46          0.0000\n"
     ]
    }
   ],
   "source": [
    "x_test = stats.kurtosistest(x) #testing whether or not we can consider distribution normal null is that it is normal \n",
    "amazon_test = stats.kurtosistest(amazon_return)\n",
    "print(f'{\"      Test Statistic\":20}{\"p_value\":>15}')\n",
    "print(f'{\" \" *5}{\"-\"*30}') \n",
    "print(f\"x:{x_test[0]:>17.2f}{x_test[1]:16.4f}\")\n",
    "print(f\"AMZN: {amazon_test[0]:13.2f}{amazon_test[1]:16.4f}\")"
   ]
  }
 ],
 "metadata": {
  "kernelspec": {
   "display_name": "Python 3",
   "language": "python",
   "name": "python3"
  },
  "language_info": {
   "codemirror_mode": {
    "name": "ipython",
    "version": 3
   },
   "file_extension": ".py",
   "mimetype": "text/x-python",
   "name": "python",
   "nbconvert_exporter": "python",
   "pygments_lexer": "ipython3",
   "version": "3.8.8"
  }
 },
 "nbformat": 4,
 "nbformat_minor": 5
}
